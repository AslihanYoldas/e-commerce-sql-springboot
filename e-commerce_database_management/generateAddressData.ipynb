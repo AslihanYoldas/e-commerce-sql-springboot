{
 "cells": [
  {
   "cell_type": "code",
   "execution_count": 24,
   "id": "c2683d79",
   "metadata": {},
   "outputs": [],
   "source": [
    "from random_address import real_random_address\n",
    "import psycopg2\n",
    "from secret import DB_PASSWORD\n"
   ]
  },
  {
   "cell_type": "code",
   "execution_count": 25,
   "id": "90729e0b",
   "metadata": {},
   "outputs": [],
   "source": [
    "conn = psycopg2.connect(\n",
    "    dbname=\"E-commerce_website\",\n",
    "    user=\"postgres\",\n",
    "    password=DB_PASSWORD,\n",
    "    host=\"localhost\",\n",
    "    port=\"5432\"\n",
    ")\n",
    "cur = conn.cursor()"
   ]
  },
  {
   "cell_type": "code",
   "execution_count": 26,
   "id": "107bd988",
   "metadata": {},
   "outputs": [],
   "source": [
    "# Get all customer IDs\n",
    "cur.execute(\"SELECT customer_id FROM customer;\")\n",
    "customer_ids = [row[0] for row in cur.fetchall()]\n"
   ]
  },
  {
   "cell_type": "code",
   "execution_count": 27,
   "id": "6b170c7c",
   "metadata": {},
   "outputs": [],
   "source": [
    "def generate_random_address(max_retries=5):\n",
    "    for _ in range(max_retries):\n",
    "        address = real_random_address()\n",
    "        city = address.get('city')\n",
    "        country = 'USA'\n",
    "        postal_code = address.get('postalCode')\n",
    "        address_line = address.get('address1')\n",
    "        is_default = True\n",
    "\n",
    "        if city and country and postal_code and address_line:\n",
    "            return city, country, postal_code, address_line, is_default\n",
    "\n",
    "    raise ValueError(\"Failed to generate valid address after multiple attempts.\")"
   ]
  },
  {
   "cell_type": "code",
   "execution_count": 28,
   "id": "b747a91e",
   "metadata": {},
   "outputs": [
    {
     "name": "stdout",
     "output_type": "stream",
     "text": [
      " Address data inserted successfully.\n"
     ]
    }
   ],
   "source": [
    "# Get all customer IDs\n",
    "cur.execute(\"SELECT customer_id FROM customer;\")\n",
    "customer_ids = [row[0] for row in cur.fetchall()]\n",
    "\n",
    "for customer_id in customer_ids:\n",
    "    city, country, postal_code, address_line, is_default = generate_random_address()\n",
    "    cur.execute(\"\"\"\n",
    "        INSERT INTO address (customer_id, city, country, postal_code, address_line, is_default)\n",
    "        VALUES (%s, %s, %s, %s, %s, %s)\n",
    "    \"\"\", (customer_id, city, country, postal_code, address_line, is_default))\n",
    "\n",
    "# Commit and close\n",
    "conn.commit()\n",
    "cur.close()\n",
    "conn.close()\n",
    "print(\" Address data inserted successfully.\")"
   ]
  },
  {
   "cell_type": "code",
   "execution_count": null,
   "id": "6c532e78",
   "metadata": {},
   "outputs": [],
   "source": []
  }
 ],
 "metadata": {
  "kernelspec": {
   "display_name": "base",
   "language": "python",
   "name": "python3"
  },
  "language_info": {
   "codemirror_mode": {
    "name": "ipython",
    "version": 3
   },
   "file_extension": ".py",
   "mimetype": "text/x-python",
   "name": "python",
   "nbconvert_exporter": "python",
   "pygments_lexer": "ipython3",
   "version": "3.8.3"
  }
 },
 "nbformat": 4,
 "nbformat_minor": 5
}
